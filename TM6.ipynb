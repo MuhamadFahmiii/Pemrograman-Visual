{
  "nbformat": 4,
  "nbformat_minor": 0,
  "metadata": {
    "colab": {
      "provenance": [],
      "authorship_tag": "ABX9TyMwk5846GG4NSoSPZGp4b17",
      "include_colab_link": true
    },
    "kernelspec": {
      "name": "python3",
      "display_name": "Python 3"
    },
    "language_info": {
      "name": "python"
    }
  },
  "cells": [
    {
      "cell_type": "markdown",
      "metadata": {
        "id": "view-in-github",
        "colab_type": "text"
      },
      "source": [
        "<a href=\"https://colab.research.google.com/github/MuhamadFahmiii/Pemrograman-Visual/blob/main/TM6.ipynb\" target=\"_parent\"><img src=\"https://colab.research.google.com/assets/colab-badge.svg\" alt=\"Open In Colab\"/></a>"
      ]
    },
    {
      "cell_type": "code",
      "source": [
        "#LATIHAN SET\n",
        "\n",
        "es_krim = set()\n",
        "\n",
        "print(\"MEMBUAT ES KRIM\")\n",
        "\n",
        "rasa_1 = input(\"Masukkan rasa es krim pertama: \")\n",
        "rasa_2 = input(\"Masukkan rasa es krim kedua: \")\n",
        "rasa_3 = input(\"Masukkan rasa es krim ketiga: \")\n",
        "\n",
        "es_krim.add(rasa_1)\n",
        "es_krim.add(rasa_2)\n",
        "es_krim.add(rasa_3)\n",
        "\n",
        "print(\"Rasa es krim telah ditambahkan ke dalam es krim.\")\n",
        "\n",
        "print(\"Isi dari Es Krim:\")\n",
        "for rasa in es_krim:\n",
        "    print(\"-\", rasa)\n",
        "\n",
        "print(\"Jumlah rasa dalam es krim:\", len(es_krim))\n",
        "\n",
        "hapus_rasa = input(\"Masukkan rasa es krim yang sudah habis: \")\n",
        "if hapus_rasa in es_krim:\n",
        "    es_krim.remove(hapus_rasa)\n",
        "    print(f\"stok rasa {hapus_rasa} telah habis.\")\n",
        "else:\n",
        "    print(f\"{hapus_rasa} tidak ada dalam es krim.\")\n",
        "\n",
        "print(\"Isi dari Es Krim:\")\n",
        "for rasa in es_krim:\n",
        "    print(\"-\", rasa)\n"
      ],
      "metadata": {
        "colab": {
          "base_uri": "https://localhost:8080/"
        },
        "id": "XR6vcqrNiZSh",
        "outputId": "98c77170-5847-4c6c-8102-7fd49ec48d57"
      },
      "execution_count": null,
      "outputs": [
        {
          "output_type": "stream",
          "name": "stdout",
          "text": [
            "MEMBUAT ES KRIM\n",
            "Masukkan rasa es krim pertama: vanila\n",
            "Masukkan rasa es krim kedua: oreo\n",
            "Masukkan rasa es krim ketiga: coklat\n",
            "Rasa es krim telah ditambahkan ke dalam es krim.\n",
            "Isi dari Es Krim:\n",
            "- coklat\n",
            "- oreo\n",
            "- vanila\n",
            "Jumlah rasa dalam es krim: 3\n",
            "Masukkan rasa es krim yang sudah habis: oreo\n",
            "stok rasa oreo  telah habis.\n",
            "Isi dari Es Krim:\n",
            "- coklat\n",
            "- vanila\n"
          ]
        }
      ]
    },
    {
      "cell_type": "code",
      "source": [
        "# 1. ada 2 input (masukkan nilai) a dan b\n",
        "a = float(input(\"Masukkan nilai a: \"))\n",
        "b = float(input(\"Masukkan nilai b: \"))\n",
        "\n",
        "# 2. output berupa print\n",
        "print(\"Nilai a: \", a)\n",
        "print(\"Nilai b: \", b)\n",
        "\n",
        "# 3. cek dengan boolean apakah a lebih besar dari b?\n",
        "a_lebih_b = a > b\n",
        "print(\"a lebih besar dari b:\", a_lebih_b)\n",
        "\n",
        "# 4. cek dengan boolean apakah b lebih besar dari a?\n",
        "b_lebih_a = b > a\n",
        "print(\"b lebih besar dari a:\", b_lebih_a)\n",
        "\n",
        "# 5. cek dengan boolean apakah a sama dengan b?\n",
        "a_sama_b = a == b\n",
        "print(\"a sama dengan b:\", a_sama_b)\n",
        "\n",
        "# 6. hitung ppn a sebesar 12%, jika lebih dari 10000\n",
        "ppn_a = a * 0.12 if a > 10000 else 0\n",
        "print(\"PPN a:\", ppn_a)\n",
        "\n",
        "# 7. hitung ppn b sebesar 12%, jika lebih dari 50000\n",
        "ppn_b = b * 0.12 if b > 50000 else 0\n",
        "print(\"PPN b:\", ppn_b)\n",
        "\n",
        "# 8. tambahkan keduai ppn a dan b, cek dengan boolean\n",
        "total_ppn = ppn_a + ppn_b\n",
        "print(\"Total PPN:\", total_ppn)\n",
        "\n",
        "# 9. hapus a dan b, cek dengan boolean\n",
        "hapus = input(\"Hapus a/b: \")\n",
        "if hapus.lower() == \"a\":\n",
        "    a = 0\n",
        "elif hapus.lower() == \"b\":\n",
        "    b = 0\n",
        "else:\n",
        "    print(\"Inputan tidak valid\")\n",
        "\n",
        "print(\"Nilai a:\", bool(a))\n",
        "print(\"Nilai b:\", bool(b))"
      ],
      "metadata": {
        "colab": {
          "base_uri": "https://localhost:8080/"
        },
        "id": "6f2AwyUmr3mX",
        "outputId": "701cf283-583f-41a7-abe7-974934310bb5"
      },
      "execution_count": 5,
      "outputs": [
        {
          "output_type": "stream",
          "name": "stdout",
          "text": [
            "Masukkan nilai a: 50000\n",
            "Masukkan nilai b: 30000\n",
            "Nilai a:  50000.0\n",
            "Nilai b:  30000.0\n",
            "a lebih besar dari b: True\n",
            "b lebih besar dari a: False\n",
            "a sama dengan b: False\n",
            "PPN a: 6000.0\n",
            "PPN b: 0\n",
            "Total PPN: 6000.0\n",
            "Hapus a/b: a\n",
            "Nilai a: False\n",
            "Nilai b: True\n"
          ]
        }
      ]
    },
    {
      "cell_type": "code",
      "source": [
        "#LATIHAN ARITMATIKA\n",
        "# P2 KONDISI DAN KOMPARASI\n",
        "\n",
        "# Set the row position of the pixel\n",
        "pixel_row = 100\n",
        "\n",
        "# Set the maximum row number\n",
        "rowmax = int(1079)\n",
        "\n",
        "# Calculate the first threshold (batas1)\n",
        "batas1 = int(0.5 * rowmax)\n",
        "\n",
        "# Print the value of batas1\n",
        "print(\"batas1: \", batas1)\n",
        "\n",
        "# Print the row position of the pixel\n",
        "print(\"Posisi pixel berada pada baris ke-\", pixel_row)\n",
        "\n",
        "# Determine the color of the pixel\n",
        "if pixel_row < batas1:\n",
        "    print(\"Warnai pixel merah.\")\n",
        "elif pixel_row == batas1:\n",
        "    print(\"Warnai pixel hitam.\")\n",
        "elif pixel_row > batas1:\n",
        "    print(\"Warnai pixel putih.\")\n",
        "else:\n",
        "    print(\"Invalid pixel position.\")\n",
        "\n",
        "pixel_row = 300\n",
        "rowmax = int(1079)\n",
        "batas1 = int(0.2 * rowmax)\n",
        "batas2 = int(0.4 * rowmax)\n",
        "batas3 = int(0.6 * rowmax)\n",
        "batas4 = int(0.8 * rowmax)\n",
        "print(\"batas1: \", batas1)\n",
        "print(\"batas2: \", batas2)\n",
        "print(\"batas3: \", batas1)\n",
        "print(\"batas4: \", batas4)\n",
        "print(\"rowmax: \", rowmax)\n",
        "print(\"Posisi pixel berada pada baris ke-\", pixel_row)\n",
        "if (pixel_row >= 0 and pixel_row < batas1):\n",
        "    print(\"Warnai pixel merah.\")\n",
        "if (pixel_row >= batas1 and pixel_row < batas2):\n",
        "    print(\"Warnai pixel hijau.\")\n",
        "if (pixel_row >= batas2 and pixel_row < batas3):\n",
        "    print(\"Warnai pixel biru.\")\n",
        "if (pixel_row >= batas3 and pixel_row < batas4):\n",
        "    print(\"Warnai pixel kuning.\")\n",
        "if (pixel_row >= batas4 and pixel_row < rowmax):\n",
        "    print(\"Warnai pixel ungu.\")"
      ],
      "metadata": {
        "colab": {
          "base_uri": "https://localhost:8080/"
        },
        "id": "vJi6UNIQr7tp",
        "outputId": "f98de609-9b71-4b03-ddd0-f03bb2a93e18"
      },
      "execution_count": 7,
      "outputs": [
        {
          "output_type": "stream",
          "name": "stdout",
          "text": [
            "batas1:  539\n",
            "Posisi pixel berada pada baris ke- 100\n",
            "Warnai pixel merah.\n",
            "batas1:  215\n",
            "batas2:  431\n",
            "batas3:  215\n",
            "batas4:  863\n",
            "rowmax:  1079\n",
            "Posisi pixel berada pada baris ke- 300\n",
            "Warnai pixel hijau.\n"
          ]
        }
      ]
    },
    {
      "cell_type": "code",
      "source": [
        "# P2 LOOP, KONDISI, KOMPARASI, DAN OPERASI LOGIKA\n",
        "print(\"\\033c\")\n",
        "import numpy as np\n",
        "import matplotlib.pyplot as plt\n",
        "\n",
        "\n",
        "rowmax = int(1079)\n",
        "colmax = int(1919)\n",
        "\n",
        "#To close all\n",
        "radius_max = int(1000)\n",
        "batas1 = int(0.2*radius_max)\n",
        "batas2 = int(0.4*radius_max)\n",
        "batas3 = int(0.6*radius_max)\n",
        "batas4 = int(0.8*radius_max)\n",
        "\n",
        "Gambar = np.zeros(shape=(rowmax+1, colmax+1, 3), dtype=np.int16)\n",
        "\n",
        "for i in range(0, rowmax+1):\n",
        "    for j in range(0, colmax+1):\n",
        "        if (i**2+j**2) >= 0 and (i**2+j**2) < batas1**2:\n",
        "            Gambar[i, j, 0] = 255\n",
        "        elif (i**2+j**2) >= batas1**2 and (i**2+j**2) < batas2**2:\n",
        "            Gambar[i, j, 1] = 255\n",
        "        elif (i**2+j**2) >= batas2**2 and (i**2+j**2) < batas3**2:\n",
        "            Gambar[i, j, 2] = 255\n",
        "        elif (i**2+j**2) >= batas3**2 and (i**2+j**2) < batas4**2:\n",
        "            Gambar[i, j, 0] = 255\n",
        "            Gambar[i, j, 1] = 255\n",
        "        elif (i**2+j**2) >= batas4**2 and (i**2+j**2) < radius_max**2:\n",
        "            Gambar[i, j, 0] = 255\n",
        "            Gambar[i, j, 2] = 255\n",
        "\n",
        "plt.figure()\n",
        "plt.imshow(Gambar)\n",
        "plt.show()"
      ],
      "metadata": {
        "colab": {
          "base_uri": "https://localhost:8080/",
          "height": 362
        },
        "id": "Go4Ws-Ga4Elu",
        "outputId": "a67903da-48a7-4283-ae6c-5ce67d506e17"
      },
      "execution_count": 7,
      "outputs": [
        {
          "output_type": "stream",
          "name": "stdout",
          "text": [
            "\u001bc\n"
          ]
        },
        {
          "output_type": "display_data",
          "data": {
            "text/plain": [
              "<Figure size 640x480 with 1 Axes>"
            ],
            "image/png": "[encoded data removed]"
          },
          "metadata": {}
        }
      ]
    },
    {
      "cell_type": "code",
      "source": [
        "# P3 Kondisi, Loop, Operator Komparasi dan Operator Logika\n",
        "\n",
        "import numpy as np\n",
        "import matplotlib.pyplot as plt\n",
        "\n",
        "rowmax = int(1079)\n",
        "colmax = int(1919)\n",
        "\n",
        "radius_max = int(1000)\n",
        "batas1 = int(0.4 * radius_max)\n",
        "batas2 = int(0.8 * radius_max)\n",
        "batas3 = int(1.2 * radius_max)\n",
        "batas4 = int(1.6 * radius_max)\n",
        "batas5 = int(2 * radius_max)\n",
        "batas6 = int(2.4 * radius_max)\n",
        "\n",
        "gambar = np.zeros(shape=(rowmax + 1, colmax + 1, 3), dtype=np.int16)\n",
        "for i in range(0, rowmax + 1):\n",
        "    for j in range(0, colmax + 1):\n",
        "        if (i ** 2 + j ** 2) >= 0 and (i ** 2 + j ** 2) < batas1 ** 2:\n",
        "            gambar[i, j] = [255, 255, 255]\n",
        "        elif (i ** 2 + j ** 2) >= batas1 ** 2 or (i ** 2 + j ** 2) < batas2 ** 2:\n",
        "            gambar[i, j] = [0, 0, 0]\n",
        "        elif (i ** 2 + j ** 2) >= batas2 ** 2 and (i ** 2 + j ** 2) < batas3 ** 2:\n",
        "            gambar[i, j] = [255, 255, 255]\n",
        "        elif (i ** 2 + j ** 2) >= batas3 ** 2 and (i ** 2 + j ** 2) < batas4 ** 2:\n",
        "            gambar[i, j] = [0, 0, 0]\n",
        "        elif (i ** 2 + j ** 2) >= batas4 ** 2 and (i ** 2 + j ** 2) < batas5 ** 2:\n",
        "            gambar[i, j] = [255, 255, 255]\n",
        "        elif (i ** 2 + j ** 2) >= batas5 ** 2 and (i ** 2 + j ** 2) < batas6 ** 2:\n",
        "            gambar[i, j] = [0, 0, 0]\n",
        "        elif (i ** 2 + j ** 2) >= batas6 ** 2 and (i ** 2 + j ** 2) < radius_max ** 2:\n",
        "            gambar[i, j] = [255, 255, 255]\n",
        "\n",
        "plt.figure()\n",
        "plt.imshow(gambar)\n",
        "plt.show()\n"
      ],
      "metadata": {
        "colab": {
          "base_uri": "https://localhost:8080/",
          "height": 345
        },
        "id": "ygVmDOhX_Evr",
        "outputId": "fe7db615-7190-4c78-bd90-a70cf1911ab9"
      },
      "execution_count": 8,
      "outputs": [
        {
          "output_type": "display_data",
          "data": {
            "text/plain": [
              "<Figure size 640x480 with 1 Axes>"
            ],
            "image/png": "[encoded data removed]"
          },
          "metadata": {}
        }
      ]
    }
  ]
}