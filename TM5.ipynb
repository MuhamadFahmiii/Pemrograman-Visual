{
  "nbformat": 4,
  "nbformat_minor": 0,
  "metadata": {
    "colab": {
      "provenance": [],
      "authorship_tag": "ABX9TyMKKF0/BwDscb1sJgFE0r4X",
      "include_colab_link": true
    },
    "kernelspec": {
      "name": "python3",
      "display_name": "Python 3"
    },
    "language_info": {
      "name": "python"
    }
  },
  "cells": [
    {
      "cell_type": "markdown",
      "metadata": {
        "id": "view-in-github",
        "colab_type": "text"
      },
      "source": [
        "<a href=\"https://colab.research.google.com/github/MuhamadFahmiii/Pemrograman-Visual/blob/main/TM5.ipynb\" target=\"_parent\"><img src=\"https://colab.research.google.com/assets/colab-badge.svg\" alt=\"Open In Colab\"/></a>"
      ]
    },
    {
      "cell_type": "code",
      "source": [
        "#sets\n",
        "\n",
        "print(\"\\033c\")\n",
        "# To close all\n",
        "\n",
        "# PART 1\n",
        "# Constructing a Set (there are two methods)\n",
        "set_1 = {\"Toyota\", \"Daihatsu\", \"Honda\"}\n",
        "set_2 = {\"Toyota\", \"Daihatsu\", \"Honda\"}\n",
        "\n",
        "print(\"Tipe data Set 1 adalah \", type(set_1))\n",
        "print(\"Tipe data Set 2 adalah \", type(set_2))\n",
        "print(\"Data Set 1: \", set_1)\n",
        "print(\"Data Set 2: \", set_2)\n",
        "print(\"------------------------------------\")\n",
        "\n",
        "# Print every item of set_1\n",
        "for x in set_1:\n",
        "    print(x)\n",
        "print(\"------------------------------------\")\n",
        "\n",
        "# Check the length of the set\n",
        "print(\"Length of set_1: \", len(set_1))\n",
        "\n",
        "# Check if a key exists\n",
        "if \"Daihatsu\" in set_1:\n",
        "    print(\"Yes, 'Daihatsu' is an item in set_1.\")\n",
        "\n",
        "# Add an item\n",
        "set_1.add(\"Mitsubishi\")\n",
        "print(set_1)\n",
        "\n",
        "# Add multiple items\n",
        "set_1.update([\"Suzuki\", \"Mazda\", \"Nissan\"])\n",
        "print(set_1)\n",
        "\n",
        "# PART 2\n",
        "# Remove an item (method 1)\n",
        "set_1.remove(\"Honda\")\n",
        "print(set_1)\n",
        "\n",
        "# Remove an item (method 2)\n",
        "set_1.discard(\"Mazda\")\n",
        "print(set_1)\n",
        "\n",
        "#Delet (pop) the last inserted key\n",
        "set_1.pop()\n",
        "print(set_1)\n",
        "\n",
        "#clear the set\n",
        "set_1.clear()\n",
        "print(set_1)\n",
        "\n",
        "#delete the set\n",
        "del set_1\n",
        "print(\"------------------------------------\")\n",
        "\n",
        "# Union of two sets\n",
        "set1 = {\"a\", \"b\", \"c\"}\n",
        "set2 = {1, 2, 3}\n",
        "set3 = set1.union(set2)\n",
        "print(set3)\n",
        "print(\"------------------------------------\")\n",
        "\n",
        "# Set 1 takes copies of all items of set 2\n",
        "set1 = {\"a\", \"b\", \"c\"}\n",
        "set2 = {1, 2, 3}\n",
        "set1.update(set2)\n",
        "print(set1)"
      ],
      "metadata": {
        "colab": {
          "base_uri": "https://localhost:8080/"
        },
        "id": "YIi2h0mQ7uOd",
        "outputId": "4aa0a60c-3579-4da9-9987-ae74a618869b"
      },
      "execution_count": 11,
      "outputs": [
        {
          "output_type": "stream",
          "name": "stdout",
          "text": [
            "\u001bc\n",
            "Tipe data Set 1 adalah  <class 'set'>\n",
            "Tipe data Set 2 adalah  <class 'set'>\n",
            "Data Set 1:  {'Honda', 'Daihatsu', 'Toyota'}\n",
            "Data Set 2:  {'Honda', 'Daihatsu', 'Toyota'}\n",
            "------------------------------------\n",
            "Honda\n",
            "Daihatsu\n",
            "Toyota\n",
            "------------------------------------\n",
            "Length of set_1:  3\n",
            "Yes, 'Daihatsu' is an item in set_1.\n",
            "{'Honda', 'Mitsubishi', 'Daihatsu', 'Toyota'}\n",
            "{'Honda', 'Daihatsu', 'Nissan', 'Suzuki', 'Mitsubishi', 'Mazda', 'Toyota'}\n",
            "{'Daihatsu', 'Nissan', 'Suzuki', 'Mitsubishi', 'Mazda', 'Toyota'}\n",
            "{'Daihatsu', 'Nissan', 'Suzuki', 'Mitsubishi', 'Toyota'}\n",
            "{'Nissan', 'Suzuki', 'Mitsubishi', 'Toyota'}\n",
            "set()\n",
            "------------------------------------\n",
            "{'a', 1, 2, 3, 'c', 'b'}\n",
            "------------------------------------\n",
            "{'a', 1, 2, 3, 'c', 'b'}\n"
          ]
        }
      ]
    },
    {
      "cell_type": "code",
      "execution_count": 12,
      "metadata": {
        "colab": {
          "base_uri": "https://localhost:8080/"
        },
        "id": "8OZeOp587dhN",
        "outputId": "1ac78933-562c-46fb-bb8b-68f3dccbaf12"
      },
      "outputs": [
        {
          "output_type": "stream",
          "name": "stdout",
          "text": [
            "Case 1\n",
            "True\n",
            "False\n",
            "=============================================================\n",
            "Case 2\n",
            "True\n",
            "True\n",
            "False\n",
            "=============================================================\n",
            "Case 3\n",
            "Pajak yang harus Anda bayar: Rp  2000000.0\n",
            "Case 4\n",
            "True\n",
            "True\n",
            "True\n",
            "True\n",
            "True\n",
            "True\n",
            "=============================================================\n",
            "Case 5\n",
            "False\n",
            "False\n",
            "False\n",
            "False\n",
            "False\n",
            "=============================================================\n",
            "Case 6\n",
            "True\n",
            "=============================================================\n"
          ]
        }
      ],
      "source": [
        "# boolean\n",
        "\n",
        "# Case 1\n",
        "print(\"Case 1\")\n",
        "# Declaring Boolean values (Standard way)\n",
        "f = bool(True)\n",
        "g = bool(False)\n",
        "print(f)\n",
        "print(g)\n",
        "print(\"=============================================================\")\n",
        "\n",
        "# Case 2\n",
        "print(\"Case 2\")\n",
        "# Boolean values in different contexts\n",
        "# Automatically tracked by the computer without declaration\n",
        "print(3 > 2)\n",
        "print(3 + 2 == 5)\n",
        "print(3 < 2)\n",
        "print(\"=============================================================\")\n",
        "\n",
        "# Case 3\n",
        "print(\"Case 3\")\n",
        "Penghasilan = 20000000\n",
        "penghasilan_tanpa_pajak = 4000000\n",
        "if penghasilan_tanpa_pajak >= Penghasilan:\n",
        "    pajak_yang_harus_dibayar = 0\n",
        "if Penghasilan > penghasilan_tanpa_pajak:\n",
        "    pajak_yang_harus_dibayar = 0.1 * Penghasilan\n",
        "\n",
        "print(\"Pajak yang harus Anda bayar: Rp \", pajak_yang_harus_dibayar)\n",
        "\n",
        "print(\"Case 4\")\n",
        "# Semua data yang tidak nol (kosong) memiliki nilai Boolean True\n",
        "\n",
        "a = 3\n",
        "b = \"Ini data string.\"\n",
        "c = \"laptop\", \"buku\", \"ballpen\"  # tuple\n",
        "d = [\"laptop\", \"buku\", \"ballpen\"]  # list\n",
        "e = {\"Laptop\": \"asus\", \"buku\": \"buku_teks\", \"ballpen\": \"arrow\"}  # dictionary\n",
        "f = {1, 2, 3, 4, 5}  # set\n",
        "print(bool(a))\n",
        "print(bool(b))\n",
        "print(bool(c))\n",
        "print(bool(d))\n",
        "print(bool(e))\n",
        "print(bool(f))\n",
        "print(\"=============================================================\")\n",
        "\n",
        "# PART 3\n",
        "# Case 5: Variables that are empty have a Boolean value of False\n",
        "print(\"Case 5\")\n",
        "\n",
        "a = 0\n",
        "b = \"\"\n",
        "c = ()\n",
        "d = []\n",
        "e = {}\n",
        "\n",
        "print(bool(a))\n",
        "print(bool(b))\n",
        "print(bool(c))\n",
        "print(bool(d))\n",
        "print(bool(e))\n",
        "print(\"=============================================================\")\n",
        "\n",
        "# Case 6: Variables with a length of zero have a Boolean value of False\n",
        "print(\"Case 6\")\n",
        "\n",
        "class MyClass:\n",
        "    def _len_(self):\n",
        "        return 0\n",
        "\n",
        "print(bool(MyClass()))\n",
        "print(\"=============================================================\")"
      ]
    },
    {
      "cell_type": "code",
      "source": [
        "# Buatlah program Anda sendiri yang melibatkan data berjenis sets!\n",
        "\n",
        "# Inisialisasi set kosong\n",
        "numbers = set()\n",
        "\n",
        "# Meminta pengguna untuk memasukkan angka, \"selesai\" untuk keluar\n",
        "while True:\n",
        "    num_input = input(\"Masukkan angka (selesai untuk mengakhiri): \")\n",
        "\n",
        "    # Keluar dari loop jika pengguna memasukkan \"selesai\"\n",
        "    if num_input.lower() == \"selesai\":\n",
        "        break\n",
        "\n",
        "    try:\n",
        "        num = int(num_input)\n",
        "        numbers.add(num)  # Menambahkan angka ke set\n",
        "    except ValueError:\n",
        "        print(\"Masukan tidak valid. Harap masukkan angka.\")\n",
        "\n",
        "# Mencetak jumlah angka unik yang dimasukkan\n",
        "print(\"Jumlah angka unik yang dimasukkan:\", len(numbers))"
      ],
      "metadata": {
        "colab": {
          "base_uri": "https://localhost:8080/"
        },
        "id": "UOVHi90M9TMv",
        "outputId": "a4d05d54-6705-4720-a7aa-25b6474cf449"
      },
      "execution_count": 13,
      "outputs": [
        {
          "output_type": "stream",
          "name": "stdout",
          "text": [
            "Masukkan angka (selesai untuk mengakhiri): 1\n",
            "Masukkan angka (selesai untuk mengakhiri): 3\n",
            "Masukkan angka (selesai untuk mengakhiri): 5\n",
            "Masukkan angka (selesai untuk mengakhiri): 6\n",
            "Masukkan angka (selesai untuk mengakhiri): 7\n",
            "Masukkan angka (selesai untuk mengakhiri): selesai\n",
            "Jumlah angka unik yang dimasukkan: 5\n"
          ]
        }
      ]
    },
    {
      "cell_type": "code",
      "source": [
        "# Buatlah program Anda sendiri yang melibatkan data berjenis boolean!\n",
        "\n",
        "# Program untuk mengecek apakah seorang pengguna memiliki akses ke suatu fitur\n",
        "\n",
        "# Fungsi untuk memeriksa izin akses pengguna\n",
        "def check_access(username):\n",
        "    # Simulasi database pengguna yang memiliki akses\n",
        "    allowed_users = ['user1', 'user2', 'user3']\n",
        "\n",
        "    # Mengecek apakah pengguna memiliki akses\n",
        "    if username in allowed_users:\n",
        "        return True\n",
        "    else:\n",
        "        return False\n",
        "\n",
        "# Main program\n",
        "def main():\n",
        "    # Mengambil input dari pengguna\n",
        "    username = input(\"Masukkan nama pengguna: \")\n",
        "\n",
        "    # Memeriksa izin akses pengguna\n",
        "    has_access = check_access(username)\n",
        "\n",
        "    # Menampilkan hasil\n",
        "    if has_access:\n",
        "        print(\"Anda memiliki akses ke fitur tersebut.\")\n",
        "    else:\n",
        "        print(\"Anda tidak memiliki akses ke fitur tersebut.\")\n",
        "\n",
        "\n",
        "main();"
      ],
      "metadata": {
        "colab": {
          "base_uri": "https://localhost:8080/"
        },
        "id": "0DGdMqKp9TQF",
        "outputId": "46831e87-7951-47b9-8426-c588229ec380"
      },
      "execution_count": 14,
      "outputs": [
        {
          "output_type": "stream",
          "name": "stdout",
          "text": [
            "Masukkan nama pengguna: user2\n",
            "Anda memiliki akses ke fitur tersebut.\n"
          ]
        }
      ]
    }
  ]
}