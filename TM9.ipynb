{
  "nbformat": 4,
  "nbformat_minor": 0,
  "metadata": {
    "colab": {
      "provenance": [],
      "authorship_tag": "ABX9TyPtoNC+I9mPE5XCgy7NkdNo",
      "include_colab_link": true
    },
    "kernelspec": {
      "name": "python3",
      "display_name": "Python 3"
    },
    "language_info": {
      "name": "python"
    }
  },
  "cells": [
    {
      "cell_type": "markdown",
      "metadata": {
        "id": "view-in-github",
        "colab_type": "text"
      },
      "source": [
        "<a href=\"https://colab.research.google.com/github/MuhamadFahmiii/Pemrograman-Visual/blob/main/TM9.ipynb\" target=\"_parent\"><img src=\"https://colab.research.google.com/assets/colab-badge.svg\" alt=\"Open In Colab\"/></a>"
      ]
    },
    {
      "cell_type": "code",
      "execution_count": null,
      "metadata": {
        "id": "1XmC0p-2aqEq"
      },
      "outputs": [],
      "source": [
        "#pembuatan arc\n",
        "\n",
        "from tkinter import *\n",
        "root = Tk()\n",
        "var = StringVar()\n",
        "label = Message(root, textvariable=var, relief=RAISED)\n",
        "var.set(\"Hey!? How are you doing?\")\n",
        "label.pack()\n",
        "root.mainloop()"
      ]
    },
    {
      "cell_type": "code",
      "source": [
        "#canvas-button-entry\n",
        "\n",
        "import tkinter as tk\n",
        "root = tk.Tk()\n",
        "\n",
        "Frameku = tk.Frame(root, bg='blue')\n",
        "Frameku.place(relwidth=0.8, relheight=0.8)\n",
        "\n",
        "Tombolku = tk.Button(Frameku, text=\"Tes Tombol\", bg='gray', fg='red')\n",
        "Tombolku.pack()\n",
        "\n",
        "Entryku = tk.Entry(Frameku, bg='green')\n",
        "Entryku.pack()\n",
        "\n",
        "root.mainloop()"
      ],
      "metadata": {
        "id": "prq9Dy7fau4K"
      },
      "execution_count": null,
      "outputs": []
    },
    {
      "cell_type": "code",
      "source": [
        "#Tutorialspoint1\n",
        "\n",
        "from tkinter import *\n",
        "from tkinter import messagebox\n",
        "\n",
        "top = Tk()\n",
        "top.geometry(\"100x100\")\n",
        "def helloCallBack():\n",
        "   msg=messagebox.showinfo( \"Hello Python\", \"Hello World\")\n",
        "B = Button(top, text =\"Hello\", command = helloCallBack)\n",
        "B.place(x=50,y=50)\n",
        "\n",
        "CheckVar1 = IntVar()\n",
        "CheckVar2 = IntVar()\n",
        "C1 = Checkbutton(top, text = \"Music\", variable = CheckVar1, \\\n",
        "   onvalue = 1, offvalue = 0, height=5, \\\n",
        "   width = 20, )\n",
        "C2 = Checkbutton(top, text = \"Video\", variable = CheckVar2, \\\n",
        "   onvalue = 1, offvalue = 0, height=5, \\\n",
        "   width = 20)\n",
        "C1.pack()\n",
        "C2.pack()\n",
        "\n",
        "L1 = Label(top, text=\"User Name\")\n",
        "L1.pack( side = LEFT)\n",
        "E1 = Entry(top, bd =5)\n",
        "E1.pack(side = RIGHT)\n",
        "\n",
        "top.mainloop()\n"
      ],
      "metadata": {
        "id": "z35_f5_pavCm"
      },
      "execution_count": null,
      "outputs": []
    },
    {
      "cell_type": "code",
      "source": [
        "#Tutorialspoint1.1\n",
        "\n",
        "from tkinter import *\n",
        "from tkinter import messagebox\n",
        "\n",
        "# BUTTON\n",
        "top = Tk()\n",
        "top.geometry(\"100x100\")\n",
        "def helloCallBack():\n",
        "   msg=messagebox.showinfo( \"Hello Python\", \"Hello World\")\n",
        "B = Button(top, text =\"Hello\", command = helloCallBack)\n",
        "B.place(x=50,y=50)\n",
        "\n",
        "# CHECKBUTTON\n",
        "CheckVar1 = IntVar()\n",
        "CheckVar2 = IntVar()\n",
        "C1 = Checkbutton(top, text = \"Music\", variable = CheckVar1, \\\n",
        "   onvalue = 1, offvalue = 0, height=5, \\\n",
        "   width = 20, )\n",
        "C2 = Checkbutton(top, text = \"Video\", variable = CheckVar2, \\\n",
        "   onvalue = 1, offvalue = 0, height=5, \\\n",
        "   width = 20)\n",
        "C1.pack()\n",
        "C2.pack()\n",
        "\n",
        "# ENTRY\n",
        "L1 = Label(top, text=\"User Name\")\n",
        "L1.pack( side = LEFT)\n",
        "E1 = Entry(top, bd =5)\n",
        "E1.pack(side = RIGHT)\n",
        "\n",
        "# FRAME\n",
        "frame = Frame(top)\n",
        "frame.pack()\n",
        "\n",
        "bottomframe = Frame(top)\n",
        "bottomframe.pack( side = BOTTOM )\n",
        "\n",
        "redbutton = Button(frame, text=\"Red\", fg=\"red\")\n",
        "redbutton.pack( side = LEFT)\n",
        "\n",
        "greenbutton = Button(frame, text=\"Brown\", fg=\"brown\")\n",
        "greenbutton.pack( side = LEFT )\n",
        "\n",
        "bluebutton = Button(frame, text=\"Blue\", fg=\"blue\")\n",
        "bluebutton.pack( side = LEFT )\n",
        "\n",
        "blackbutton = Button(bottomframe, text=\"Black\", fg=\"black\")\n",
        "blackbutton.pack( side = BOTTOM)\n",
        "\n",
        "# LABEL\n",
        "var = StringVar()\n",
        "label = Label( top, textvariable=var, relief=RAISED )\n",
        "var.set(\"Hey!? How are you doing?\")\n",
        "label.pack()\n",
        "\n",
        "top.mainloop()\n"
      ],
      "metadata": {
        "id": "l6m27rU-avKk"
      },
      "execution_count": null,
      "outputs": []
    },
    {
      "cell_type": "code",
      "source": [
        "#Tutorialspoint1.2\n",
        "\n",
        "from tkinter import *\n",
        "root = Tk()\n",
        "var = StringVar()\n",
        "label = Message(root, textvariable=var, relief=RAISED)\n",
        "var.set(\"Hey!? How are you doing?\")\n",
        "label.pack()\n",
        "root.mainloop()"
      ],
      "metadata": {
        "id": "C0Y8CSq0avV-"
      },
      "execution_count": null,
      "outputs": []
    }
  ]
}